{
  "cells": [
    {
      "cell_type": "markdown",
      "source": [
        "# New Section"
      ],
      "metadata": {
        "id": "7z917tFsmpnc"
      },
      "id": "7z917tFsmpnc"
    },
    {
      "cell_type": "markdown",
      "metadata": {
        "id": "9cd4ea0b"
      },
      "source": [
        "Here's the code to upload files from your local computer to your Colab environment. After running the cell, you will see a button to select and upload files."
      ],
      "id": "9cd4ea0b"
    },
    {
      "cell_type": "code",
      "metadata": {
        "colab": {
          "base_uri": "https://localhost:8080/",
          "height": 106
        },
        "id": "c42961d7",
        "outputId": "24808579-9425-419a-b0f8-cecfcdd43df9"
      },
      "source": [
        "import os\n",
        "\n",
        "# Get the list of all files in the current directory\n",
        "files_in_directory = os.listdir()\n",
        "\n",
        "print(\"Files in the current directory before deletion:\")\n",
        "for filename in files_in_directory:\n",
        "    print(filename)\n",
        "\n",
        "# Iterate through the files and remove each one\n",
        "files_deleted_count = 0\n",
        "for filename in files_in_directory:\n",
        "    try:\n",
        "        os.remove(filename)\n",
        "        print(f\"Successfully removed '{filename}'.\")\n",
        "        files_deleted_count += 1\n",
        "    except Exception as e:\n",
        "        print(f\"Error removing file '{filename}': {e}\")\n",
        "\n",
        "print(f\"\\nAttempted to delete {len(files_in_directory)} files. Successfully deleted {files_deleted_count} files.\")\n",
        "\n",
        "# List files again to confirm deletion\n",
        "files_in_directory_after = os.listdir()\n",
        "print(\"\\nFiles in the current directory after deletion:\")\n",
        "if files_in_directory_after:\n",
        "    for filename in files_in_directory_after:\n",
        "        print(filename)\n",
        "else:\n",
        "    print(\"Directory is empty.\")\n",
        "\n",
        "from google.colab import files\n",
        "\n",
        "uploaded = files.upload()\n",
        "\n",
        "for filename in uploaded.keys():\n",
        "  print(f'User uploaded file \"{filename}\" with length {len(uploaded[filename])} bytes')\n",
        "\n",
        "\n",
        "import pandas as pd\n",
        "\n",
        "# Assuming the uploaded file is an Excel file and its name is 'AF.xlsx'\n",
        "# If your file has a different name, please update the filename below.\n",
        "excel_file_path = 'AF.xlsx'\n",
        "\n",
        "try:\n",
        "    # Read the Excel file to get the sheet names\n",
        "    excel_sheets = pd.ExcelFile(excel_file_path).sheet_names\n",
        "\n",
        "    print(f\"Sheet names in '{excel_file_path}':\")\n",
        "    for sheet_name in excel_sheets:\n",
        "        print(sheet_name)\n",
        "\n",
        "except FileNotFoundError:\n",
        "    print(f\"Error: The file '{excel_file_path}' was not found. Please make sure the file is uploaded and the name is correct.\")\n",
        "except Exception as e:\n",
        "    print(f\"An error occurred: {e}\")\n",
        "\n",
        "\n",
        "     # Prompt the user to select a sheet\n",
        "    while True:\n",
        "        try:\n",
        "            choice = input(\"\\nEnter the number or name of the sheet you want to process: \")\n",
        "            if choice.isdigit():\n",
        "                choice_index = int(choice) - 1\n",
        "                if 0 <= choice_index < len(excel_sheets):\n",
        "                    selected_sheet_name = excel_sheets[choice_index]\n",
        "                    print(f\"You selected sheet: {selected_sheet_name}\")\n",
        "                    # The selected_sheet_name variable now holds the name of the chosen sheet.\n",
        "                    # You can use this variable in the next steps (e.g., to load the sheet into a DataFrame).\n",
        "                    break # Exit the loop if selection is valid\n",
        "                else:\n",
        "                    print(\"Invalid number. Please enter a number corresponding to a sheet.\")\n",
        "            elif choice in excel_sheets:\n",
        "                selected_sheet_name = choice\n",
        "                print(f\"You selected sheet: {selected_sheet_name}\")\n",
        "                # The selected_sheet_name variable now holds the name of the chosen sheet.\n",
        "                # You can use this variable in the next steps (e.g., to load the sheet into a DataFrame).\n",
        "                break # Exit the loop if selection is valid\n",
        "            else:\n",
        "                print(\"Invalid input. Please enter a valid sheet number or name.\")\n",
        "        except ValueError:\n",
        "            print(\"Invalid input. Please enter a number or the exact sheet name.\")\n",
        "\n"
      ],
      "id": "c42961d7",
      "execution_count": 31,
      "outputs": [
        {
          "output_type": "error",
          "ename": "IndentationError",
          "evalue": "unexpected indent (ipython-input-1503742928.py, line 60)",
          "traceback": [
            "\u001b[0;36m  File \u001b[0;32m\"/tmp/ipython-input-1503742928.py\"\u001b[0;36m, line \u001b[0;32m60\u001b[0m\n\u001b[0;31m    try:\u001b[0m\n\u001b[0m    ^\u001b[0m\n\u001b[0;31mIndentationError\u001b[0m\u001b[0;31m:\u001b[0m unexpected indent\n"
          ]
        }
      ]
    }
  ],
  "metadata": {
    "kernelspec": {
      "display_name": "Python 3",
      "name": "python3"
    },
    "language_info": {
      "name": "python"
    },
    "required_libs": [],
    "colab": {
      "provenance": []
    }
  },
  "nbformat": 4,
  "nbformat_minor": 5
}